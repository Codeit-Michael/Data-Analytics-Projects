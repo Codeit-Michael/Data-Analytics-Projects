{
 "cells": [
  {
   "cell_type": "markdown",
   "metadata": {},
   "source": [
    "# Medical Data Visualizer"
   ]
  },
  {
   "cell_type": "markdown",
   "metadata": {},
   "source": [
    "## Module Import"
   ]
  },
  {
   "cell_type": "code",
   "execution_count": null,
   "metadata": {},
   "outputs": [],
   "source": [
    "import pandas as pd\n",
    "import seaborn as sns\n",
    "import matplotlib.pyplot as plt\n",
    "import numpy as np"
   ]
  },
  {
   "cell_type": "markdown",
   "metadata": {},
   "source": [
    "## Import Data"
   ]
  },
  {
   "cell_type": "code",
   "execution_count": 2,
   "metadata": {},
   "outputs": [],
   "source": [
    "df = pd.read_csv(\"medical_examination.csv\")"
   ]
  },
  {
   "cell_type": "markdown",
   "metadata": {},
   "source": [
    "## Add Overweight Column"
   ]
  },
  {
   "cell_type": "code",
   "execution_count": 9,
   "metadata": {},
   "outputs": [
    {
     "data": {
      "text/plain": [
       "0        21.967120\n",
       "1        34.927679\n",
       "2        23.507805\n",
       "3        28.710479\n",
       "4        23.011177\n",
       "           ...    \n",
       "69995    26.927438\n",
       "69996    50.472681\n",
       "69997    31.353579\n",
       "69998    27.099251\n",
       "69999    24.913495\n",
       "Length: 70000, dtype: float64"
      ]
     },
     "execution_count": 9,
     "metadata": {},
     "output_type": "execute_result"
    }
   ],
   "source": [
    "# BMI = weight (kg) / height (m)\n",
    "df[\"weight\"] / ((df[\"height\"] * 0.01)**2)\n",
    "conditions = [\n",
    "    df[\"weight\"] / ((df[\"height\"] * 0.01)**2) <= 25,\n",
    "    df[\"weight\"] / ((df[\"height\"] * 0.01)**2) > 25\n",
    "]\n",
    "choices = [0, 1]\n",
    "df[\"overweight\"] = np.select(conditions, choices, default=0)"
   ]
  },
  {
   "cell_type": "code",
   "execution_count": 14,
   "metadata": {},
   "outputs": [
    {
     "data": {
      "text/plain": [
       "0         True\n",
       "1        False\n",
       "2         True\n",
       "3        False\n",
       "4         True\n",
       "         ...  \n",
       "69995    False\n",
       "69996    False\n",
       "69997    False\n",
       "69998    False\n",
       "69999     True\n",
       "Length: 70000, dtype: bool"
      ]
     },
     "execution_count": 14,
     "metadata": {},
     "output_type": "execute_result"
    }
   ],
   "source": [
    "bmi = df[\"weight\"] / ((df[\"height\"] * 0.01)**2)\n",
    "gg = bmi <= 25\n",
    "\n",
    "gg"
   ]
  },
  {
   "cell_type": "markdown",
   "metadata": {},
   "source": [
    "<br>"
   ]
  },
  {
   "cell_type": "code",
   "execution_count": null,
   "metadata": {},
   "outputs": [],
   "source": [
    "# Normalize data by making 0 always good and 1 always bad. If the value of 'cholesterol' or 'gluc' is 1, make the value 0. If the value is more than 1, make the value 1.\n",
    "\n",
    "\n",
    "# Draw Categorical Plot\n",
    "def draw_cat_plot():\n",
    "    # Create DataFrame for cat plot using `pd.melt` using just the values from 'cholesterol', 'gluc', 'smoke', 'alco', 'active', and 'overweight'.\n",
    "    df_cat = None\n",
    "\n",
    "\n",
    "    # Group and reformat the data to split it by 'cardio'. Show the counts of each feature. You will have to rename one of the columns for the catplot to work correctly.\n",
    "    df_cat = None\n",
    "    \n",
    "\n",
    "    # Draw the catplot with 'sns.catplot()'\n",
    "\n",
    "\n",
    "\n",
    "    # Get the figure for the output\n",
    "    fig = None\n",
    "\n",
    "\n",
    "    # Do not modify the next two lines\n",
    "    fig.savefig('catplot.png')\n",
    "    return fig\n",
    "\n",
    "\n",
    "# Draw Heat Map\n",
    "def draw_heat_map():\n",
    "    # Clean the data\n",
    "    df_heat = None\n",
    "\n",
    "    # Calculate the correlation matrix\n",
    "    corr = None\n",
    "\n",
    "    # Generate a mask for the upper triangle\n",
    "    mask = None\n",
    "\n",
    "\n",
    "\n",
    "    # Set up the matplotlib figure\n",
    "    fig, ax = None\n",
    "\n",
    "    # Draw the heatmap with 'sns.heatmap()'\n",
    "\n",
    "\n",
    "\n",
    "    # Do not modify the next two lines\n",
    "    fig.savefig('heatmap.png')\n",
    "    return fig\n"
   ]
  }
 ],
 "metadata": {
  "kernelspec": {
   "display_name": "Python 3",
   "language": "python",
   "name": "python3"
  },
  "language_info": {
   "codemirror_mode": {
    "name": "ipython",
    "version": 3
   },
   "file_extension": ".py",
   "mimetype": "text/x-python",
   "name": "python",
   "nbconvert_exporter": "python",
   "pygments_lexer": "ipython3",
   "version": "3.8.2"
  }
 },
 "nbformat": 4,
 "nbformat_minor": 4
}
